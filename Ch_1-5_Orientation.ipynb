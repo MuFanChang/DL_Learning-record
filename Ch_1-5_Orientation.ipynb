{
 "cells": [
  {
   "cell_type": "markdown",
   "metadata": {},
   "source": [
    "# 牛刀小試"
   ]
  },
  {
   "cell_type": "code",
   "execution_count": 11,
   "metadata": {
    "collapsed": true
   },
   "outputs": [],
   "source": [
    "import tensorflow as tf\n",
    "import numpy as np"
   ]
  },
  {
   "cell_type": "code",
   "execution_count": 4,
   "metadata": {
    "collapsed": true
   },
   "outputs": [],
   "source": [
    "### create data ###\n",
    "x_data = np.random.rand(100).astype(np.float32)\n",
    "y_data = x_data*0.5 + 0.8"
   ]
  },
  {
   "cell_type": "code",
   "execution_count": 6,
   "metadata": {
    "collapsed": false,
    "scrolled": true
   },
   "outputs": [],
   "source": [
    "### create TF structure ###\n",
    "Weights = tf.Variable(tf.random_uniform([1],-1.0,1.0))\n",
    "biases = tf.Variable(tf.zeros([1]))\n",
    "\n",
    "y = Weights*x_data + biases # y預測值\n",
    "\n",
    "loss = tf.reduce_mean(tf.square(y - y_data))\n",
    "optimizer = tf.train.GradientDescentOptimizer(0.5) #優化器 學習效率\n",
    "\n",
    "train = optimizer.minimize(loss)\n",
    "init = tf.global_variables_initializer()"
   ]
  },
  {
   "cell_type": "code",
   "execution_count": 10,
   "metadata": {
    "collapsed": false,
    "scrolled": true
   },
   "outputs": [
    {
     "name": "stdout",
     "output_type": "stream",
     "text": [
      "0 [ 1.12922871] [ 0.62892282]\n",
      "20 [ 0.64756107] [ 0.72390318]\n",
      "40 [ 0.53842062] [ 0.78018659]\n",
      "60 [ 0.51000369] [ 0.79484111]\n",
      "80 [ 0.50260466] [ 0.79865676]\n",
      "100 [ 0.50067818] [ 0.79965025]\n",
      "120 [ 0.50017661] [ 0.79990894]\n",
      "140 [ 0.50004601] [ 0.79997629]\n",
      "160 [ 0.50001198] [ 0.79999381]\n",
      "180 [ 0.5000031] [ 0.7999984]\n",
      "200 [ 0.50000083] [ 0.79999959]\n"
     ]
    }
   ],
   "source": [
    "### Session ###\n",
    "Sess = tf.Session()\n",
    "Sess.run(init)   #執行\n",
    "\n",
    "for step in range(201):\n",
    "    Sess.run(train)\n",
    "    if step % 20 ==0:\n",
    "        print(step, Sess.run(Weights),Sess.run(biases))\n",
    "### 超酷的! ###"
   ]
  },
  {
   "cell_type": "markdown",
   "metadata": {},
   "source": [
    "# Session 會話"
   ]
  },
  {
   "cell_type": "code",
   "execution_count": 12,
   "metadata": {
    "collapsed": true
   },
   "outputs": [],
   "source": [
    "import tensorflow as tf"
   ]
  },
  {
   "cell_type": "code",
   "execution_count": 17,
   "metadata": {
    "collapsed": false
   },
   "outputs": [],
   "source": [
    "### matrix ###\n",
    "matrix1 = tf.constant([[3,3]])\n",
    "matrix2 = tf.constant([[4],[6]])\n",
    "\n",
    "product = tf.matmul(matrix1,matrix2)"
   ]
  },
  {
   "cell_type": "code",
   "execution_count": 18,
   "metadata": {
    "collapsed": false
   },
   "outputs": [
    {
     "name": "stdout",
     "output_type": "stream",
     "text": [
      "[[30]]\n"
     ]
    }
   ],
   "source": [
    "### Session method 1 ###\n",
    "Sess = tf.Session()\n",
    "result = Sess.run(product)\n",
    "print(result)\n",
    "Sess.close()"
   ]
  },
  {
   "cell_type": "code",
   "execution_count": 19,
   "metadata": {
    "collapsed": false
   },
   "outputs": [
    {
     "name": "stdout",
     "output_type": "stream",
     "text": [
      "[[30]]\n"
     ]
    }
   ],
   "source": [
    "### Session method 2 ###\n",
    "with tf.Session() as Sess:\n",
    "    result2 = Sess.run(product)\n",
    "    print(result2)"
   ]
  },
  {
   "cell_type": "markdown",
   "metadata": {},
   "source": [
    "# Variable 變數（量）"
   ]
  },
  {
   "cell_type": "code",
   "execution_count": 27,
   "metadata": {
    "collapsed": true
   },
   "outputs": [],
   "source": [
    "### XXX = tf.Variable() ###\n",
    "import tensorflow as tf\n",
    "\n",
    "state = tf.Variable(0,name='counter')\n",
    "one = tf.Variable(1)\n",
    "\n",
    "### 加法 ###\n",
    "new_value = tf.add(state, one)\n",
    "\n",
    "### 將state更新成new_value\n",
    "update = tf.assign(state, new_value)\n",
    "\n",
    "#init = tf.initialize_all_variables() #舊版\n",
    "init = tf.global_variables_initializer()\n"
   ]
  },
  {
   "cell_type": "code",
   "execution_count": 28,
   "metadata": {
    "collapsed": false
   },
   "outputs": [
    {
     "name": "stdout",
     "output_type": "stream",
     "text": [
      "1\n",
      "2\n",
      "3\n"
     ]
    }
   ],
   "source": [
    "### Session ###\n",
    "with tf.Session() as Sess:\n",
    "    Sess.run(init)\n",
    "    for _ in range(3):\n",
    "        Sess.run(update)\n",
    "        print(Sess.run(state))"
   ]
  },
  {
   "cell_type": "code",
   "execution_count": null,
   "metadata": {
    "collapsed": true
   },
   "outputs": [],
   "source": []
  }
 ],
 "metadata": {
  "anaconda-cloud": {},
  "kernelspec": {
   "display_name": "Python [conda root]",
   "language": "python",
   "name": "conda-root-py"
  },
  "language_info": {
   "codemirror_mode": {
    "name": "ipython",
    "version": 3
   },
   "file_extension": ".py",
   "mimetype": "text/x-python",
   "name": "python",
   "nbconvert_exporter": "python",
   "pygments_lexer": "ipython3",
   "version": "3.5.2"
  }
 },
 "nbformat": 4,
 "nbformat_minor": 1
}
